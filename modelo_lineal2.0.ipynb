{
 "cells": [
  {
   "cell_type": "code",
   "execution_count": 31,
   "id": "c160866b",
   "metadata": {},
   "outputs": [],
   "source": [
    "import yfinance as yf\n",
    "import pandas as pd\n",
    "import numpy as np\n",
    "import matplotlib.pyplot as plt\n",
    "import seaborn as sns\n",
    "from sklearn.linear_model import LinearRegression, Ridge\n",
    "from sklearn.metrics import mean_squared_error, r2_score\n",
    "from sklearn.preprocessing import StandardScaler\n",
    "from sklearn.ensemble import RandomForestRegressor\n",
    "import statsmodels.api as sm\n",
    "import warnings\n",
    "warnings.filterwarnings('ignore')\n",
    "\n",
    "# Configuración de estilo para gráficos\n",
    "plt.style.use('default')\n",
    "sns.set_palette(\"husl\")\n"
   ]
  },
  {
   "cell_type": "code",
   "execution_count": 32,
   "id": "91521675",
   "metadata": {},
   "outputs": [
    {
     "name": "stderr",
     "output_type": "stream",
     "text": [
      "[*********************100%***********************]  1 of 1 completed"
     ]
    },
    {
     "name": "stdout",
     "output_type": "stream",
     "text": [
      "Descargando datos de DOGE-USD...\n",
      "Datos descargados: 1826 registros\n",
      "Última fecha disponible: 2024-12-30\n"
     ]
    },
    {
     "name": "stderr",
     "output_type": "stream",
     "text": [
      "\n"
     ]
    }
   ],
   "source": [
    "# 1. Descargar datos\n",
    "print(\"Descargando datos de DOGE-USD...\")\n",
    "df = yf.download(\"DOGE-USD\", start=\"2020-01-01\", end=\"2024-12-31\")\n",
    "\n",
    "# Verificar que tenemos datos\n",
    "if df.empty:\n",
    "    print(\"No se pudieron descargar datos. Verifica el símbolo y las fechas.\")\n",
    "else:\n",
    "    print(f\"Datos descargados: {len(df)} registros\")\n",
    "    print(f\"Última fecha disponible: {df.index[-1].strftime('%Y-%m-%d')}\")\n"
   ]
  },
  {
   "cell_type": "code",
   "execution_count": 33,
   "id": "24fadfc9",
   "metadata": {},
   "outputs": [
    {
     "name": "stdout",
     "output_type": "stream",
     "text": [
      "Datos limpios: 1791 registros\n"
     ]
    }
   ],
   "source": [
    "# 2. Preparar datos\n",
    "df = df[['Close']].copy()\n",
    "df.columns = ['Precio_Cierre']\n",
    "\n",
    "# Crear variables predictoras (features)\n",
    "df['Dia'] = range(len(df))\n",
    "df['Media_Movil_7'] = df['Precio_Cierre'].rolling(window=7).mean()\n",
    "df['Media_Movil_30'] = df['Precio_Cierre'].rolling(window=30).mean()\n",
    "df['Retorno_1d'] = df['Precio_Cierre'].pct_change()\n",
    "df['Volatilidad_7d'] = df['Retorno_1d'].rolling(window=7).std()\n",
    "\n",
    "# Variable objetivo: precio en 6 días\n",
    "df['Precio_6d_Futuro'] = df['Precio_Cierre'].shift(-6)\n",
    "\n",
    "# Eliminar filas con NaN\n",
    "df_clean = df.dropna().copy()\n",
    "\n",
    "print(f\"Datos limpios: {len(df_clean)} registros\")\n"
   ]
  },
  {
   "cell_type": "code",
   "execution_count": 34,
   "id": "6925843b",
   "metadata": {},
   "outputs": [
    {
     "name": "stdout",
     "output_type": "stream",
     "text": [
      "Datos de entrenamiento (últimos 30 días): 31 registros\n"
     ]
    }
   ],
   "source": [
    "# 3. Seleccionar los últimos 30 días para entrenamiento\n",
    "ultima_fecha = df_clean.index[-1]\n",
    "fecha_inicio_30d = ultima_fecha - pd.Timedelta(days=30)\n",
    "df_train = df_clean[df_clean.index >= fecha_inicio_30d].copy()\n",
    "\n",
    "print(f\"Datos de entrenamiento (últimos 30 días): {len(df_train)} registros\")\n"
   ]
  },
  {
   "cell_type": "code",
   "execution_count": 35,
   "id": "66c6adbf",
   "metadata": {},
   "outputs": [],
   "source": [
    "# 4. Preparar variables para el modelo\n",
    "features = ['Dia', 'Media_Movil_7', 'Media_Movil_30', 'Retorno_1d', 'Volatilidad_7d']\n",
    "X = df_train[features]\n",
    "y = df_train['Precio_6d_Futuro']\n",
    "\n",
    "# Escalar características\n",
    "scaler = StandardScaler()\n",
    "X_scaled = scaler.fit_transform(X)"
   ]
  },
  {
   "cell_type": "code",
   "execution_count": 36,
   "id": "14c7365f",
   "metadata": {},
   "outputs": [
    {
     "name": "stdout",
     "output_type": "stream",
     "text": [
      "\n",
      "Entrenando modelo GLM...\n",
      "                 Generalized Linear Model Regression Results                  \n",
      "==============================================================================\n",
      "Dep. Variable:       Precio_6d_Futuro   No. Observations:                   31\n",
      "Model:                            GLM   Df Residuals:                       25\n",
      "Model Family:                Gaussian   Df Model:                            5\n",
      "Link Function:               Identity   Scale:                      0.00032739\n",
      "Method:                          IRLS   Log-Likelihood:                 83.724\n",
      "Date:                Thu, 28 Aug 2025   Deviance:                    0.0081849\n",
      "Time:                        21:38:41   Pearson chi2:                  0.00818\n",
      "No. Iterations:                     3   Pseudo R-squ. (CS):             0.9992\n",
      "Covariance Type:            nonrobust                                         \n",
      "==============================================================================\n",
      "                 coef    std err          z      P>|z|      [0.025      0.975]\n",
      "------------------------------------------------------------------------------\n",
      "const          0.3790      0.003    116.616      0.000       0.373       0.385\n",
      "x1            -0.3298      0.061     -5.399      0.000      -0.450      -0.210\n",
      "x2            -0.1300      0.029     -4.540      0.000      -0.186      -0.074\n",
      "x3             0.2382      0.051      4.683      0.000       0.139       0.338\n",
      "x4            -0.0069      0.003     -2.003      0.045      -0.014      -0.000\n",
      "x5            -0.0033      0.004     -0.945      0.345      -0.010       0.004\n",
      "==============================================================================\n"
     ]
    }
   ],
   "source": [
    "# 5. Entrenar modelo GLM usando statsmodels.api correctamente\n",
    "print(\"\\nEntrenando modelo GLM...\")\n",
    "# Añadir constante para el intercepto\n",
    "X_sm = sm.add_constant(X_scaled)\n",
    "glm_model = sm.GLM(y, X_sm, family=sm.families.Gaussian())\n",
    "glm_results = glm_model.fit()\n",
    "\n",
    "print(glm_results.summary())"
   ]
  },
  {
   "cell_type": "code",
   "execution_count": 37,
   "id": "edb88d5a",
   "metadata": {},
   "outputs": [
    {
     "ename": "ValueError",
     "evalue": "shapes (6,5) and (6,) not aligned: 5 (dim 1) != 6 (dim 0)",
     "output_type": "error",
     "traceback": [
      "\u001b[1;31m---------------------------------------------------------------------------\u001b[0m",
      "\u001b[1;31mValueError\u001b[0m                                Traceback (most recent call last)",
      "Cell \u001b[1;32mIn[37], line 17\u001b[0m\n\u001b[0;32m     14\u001b[0m future_days_sm \u001b[38;5;241m=\u001b[39m sm\u001b[38;5;241m.\u001b[39madd_constant(future_days_scaled)  \u001b[38;5;66;03m# Añadir constante\u001b[39;00m\n\u001b[0;32m     16\u001b[0m \u001b[38;5;66;03m# Hacer predicciones\u001b[39;00m\n\u001b[1;32m---> 17\u001b[0m predicciones_glm \u001b[38;5;241m=\u001b[39m \u001b[43mglm_results\u001b[49m\u001b[38;5;241;43m.\u001b[39;49m\u001b[43mpredict\u001b[49m\u001b[43m(\u001b[49m\u001b[43mfuture_days_sm\u001b[49m\u001b[43m)\u001b[49m\n",
      "File \u001b[1;32mc:\\Users\\ACER\\AppData\\Local\\Programs\\Python\\Python313\\Lib\\site-packages\\statsmodels\\base\\model.py:1174\u001b[0m, in \u001b[0;36mResults.predict\u001b[1;34m(self, exog, transform, *args, **kwargs)\u001b[0m\n\u001b[0;32m   1127\u001b[0m \u001b[38;5;250m\u001b[39m\u001b[38;5;124;03m\"\"\"\u001b[39;00m\n\u001b[0;32m   1128\u001b[0m \u001b[38;5;124;03mCall self.model.predict with self.params as the first argument.\u001b[39;00m\n\u001b[0;32m   1129\u001b[0m \n\u001b[1;32m   (...)\u001b[0m\n\u001b[0;32m   1169\u001b[0m \u001b[38;5;124;03mreturned prediction.\u001b[39;00m\n\u001b[0;32m   1170\u001b[0m \u001b[38;5;124;03m\"\"\"\u001b[39;00m\n\u001b[0;32m   1171\u001b[0m exog, exog_index \u001b[38;5;241m=\u001b[39m \u001b[38;5;28mself\u001b[39m\u001b[38;5;241m.\u001b[39m_transform_predict_exog(exog,\n\u001b[0;32m   1172\u001b[0m                                                 transform\u001b[38;5;241m=\u001b[39mtransform)\n\u001b[1;32m-> 1174\u001b[0m predict_results \u001b[38;5;241m=\u001b[39m \u001b[38;5;28;43mself\u001b[39;49m\u001b[38;5;241;43m.\u001b[39;49m\u001b[43mmodel\u001b[49m\u001b[38;5;241;43m.\u001b[39;49m\u001b[43mpredict\u001b[49m\u001b[43m(\u001b[49m\u001b[38;5;28;43mself\u001b[39;49m\u001b[38;5;241;43m.\u001b[39;49m\u001b[43mparams\u001b[49m\u001b[43m,\u001b[49m\u001b[43m \u001b[49m\u001b[43mexog\u001b[49m\u001b[43m,\u001b[49m\u001b[43m \u001b[49m\u001b[38;5;241;43m*\u001b[39;49m\u001b[43margs\u001b[49m\u001b[43m,\u001b[49m\n\u001b[0;32m   1175\u001b[0m \u001b[43m                                     \u001b[49m\u001b[38;5;241;43m*\u001b[39;49m\u001b[38;5;241;43m*\u001b[39;49m\u001b[43mkwargs\u001b[49m\u001b[43m)\u001b[49m\n\u001b[0;32m   1177\u001b[0m \u001b[38;5;28;01mif\u001b[39;00m exog_index \u001b[38;5;129;01mis\u001b[39;00m \u001b[38;5;129;01mnot\u001b[39;00m \u001b[38;5;28;01mNone\u001b[39;00m \u001b[38;5;129;01mand\u001b[39;00m \u001b[38;5;129;01mnot\u001b[39;00m \u001b[38;5;28mhasattr\u001b[39m(predict_results,\n\u001b[0;32m   1178\u001b[0m                                           \u001b[38;5;124m'\u001b[39m\u001b[38;5;124mpredicted_values\u001b[39m\u001b[38;5;124m'\u001b[39m):\n\u001b[0;32m   1179\u001b[0m     \u001b[38;5;28;01mif\u001b[39;00m predict_results\u001b[38;5;241m.\u001b[39mndim \u001b[38;5;241m==\u001b[39m \u001b[38;5;241m1\u001b[39m:\n",
      "File \u001b[1;32mc:\\Users\\ACER\\AppData\\Local\\Programs\\Python\\Python313\\Lib\\site-packages\\statsmodels\\genmod\\generalized_linear_model.py:1012\u001b[0m, in \u001b[0;36mGLM.predict\u001b[1;34m(self, params, exog, exposure, offset, which, linear)\u001b[0m\n\u001b[0;32m   1009\u001b[0m \u001b[38;5;28;01mif\u001b[39;00m exog \u001b[38;5;129;01mis\u001b[39;00m \u001b[38;5;28;01mNone\u001b[39;00m:\n\u001b[0;32m   1010\u001b[0m     exog \u001b[38;5;241m=\u001b[39m \u001b[38;5;28mself\u001b[39m\u001b[38;5;241m.\u001b[39mexog\n\u001b[1;32m-> 1012\u001b[0m linpred \u001b[38;5;241m=\u001b[39m \u001b[43mnp\u001b[49m\u001b[38;5;241;43m.\u001b[39;49m\u001b[43mdot\u001b[49m\u001b[43m(\u001b[49m\u001b[43mexog\u001b[49m\u001b[43m,\u001b[49m\u001b[43m \u001b[49m\u001b[43mparams\u001b[49m\u001b[43m)\u001b[49m \u001b[38;5;241m+\u001b[39m offset \u001b[38;5;241m+\u001b[39m exposure\n\u001b[0;32m   1014\u001b[0m \u001b[38;5;28;01mif\u001b[39;00m which \u001b[38;5;241m==\u001b[39m \u001b[38;5;124m\"\u001b[39m\u001b[38;5;124mmean\u001b[39m\u001b[38;5;124m\"\u001b[39m:\n\u001b[0;32m   1015\u001b[0m     \u001b[38;5;28;01mreturn\u001b[39;00m \u001b[38;5;28mself\u001b[39m\u001b[38;5;241m.\u001b[39mfamily\u001b[38;5;241m.\u001b[39mfitted(linpred)\n",
      "\u001b[1;31mValueError\u001b[0m: shapes (6,5) and (6,) not aligned: 5 (dim 1) != 6 (dim 0)"
     ]
    }
   ],
   "source": [
    "# 6. Hacer predicciones para los próximos 6 días\n",
    "ultimo_dia = df_train['Dia'].iloc[-1]\n",
    "ultimos_datos = df_train.iloc[-1:][features].values\n",
    "\n",
    "# Preparar datos para predicción de 6 días\n",
    "future_days = []\n",
    "for i in range(1, 7):\n",
    "    future_day = ultimos_datos.copy()\n",
    "    future_day[0, 0] = ultimo_dia + i\n",
    "    future_days.append(future_day[0])\n",
    "\n",
    "future_days = np.array(future_days)\n",
    "future_days_scaled = scaler.transform(future_days)\n",
    "future_days_sm = sm.add_constant(future_days_scaled)  # Añadir constante\n",
    "\n",
    "# Hacer predicciones\n",
    "predicciones_glm = glm_results.predict(future_days_sm)\n"
   ]
  }
 ],
 "metadata": {
  "kernelspec": {
   "display_name": "Python 3",
   "language": "python",
   "name": "python3"
  },
  "language_info": {
   "codemirror_mode": {
    "name": "ipython",
    "version": 3
   },
   "file_extension": ".py",
   "mimetype": "text/x-python",
   "name": "python",
   "nbconvert_exporter": "python",
   "pygments_lexer": "ipython3",
   "version": "3.13.7"
  }
 },
 "nbformat": 4,
 "nbformat_minor": 5
}
