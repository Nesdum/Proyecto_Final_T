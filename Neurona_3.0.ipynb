{
 "cells": [
  {
   "cell_type": "code",
   "execution_count": 1,
   "id": "7cee18bf",
   "metadata": {},
   "outputs": [],
   "source": [
    "# ======================================================================\n",
    "# 📌 PREDICCIÓN DE DOGE-USD CON RNN, LSTM Y GRU\n",
    "# ======================================================================\n",
    "\n",
    "import yfinance as yf\n",
    "import numpy as np\n",
    "import pandas as pd\n",
    "import matplotlib.pyplot as plt\n",
    "from sklearn.preprocessing import MinMaxScaler\n",
    "from sklearn.metrics import mean_absolute_error, mean_squared_error\n",
    "from tensorflow.keras.models import Sequential\n",
    "from tensorflow.keras.layers import Dense, SimpleRNN, LSTM, GRU\n",
    "from tensorflow.keras.optimizers import Adam"
   ]
  },
  {
   "cell_type": "code",
   "execution_count": 17,
   "id": "0fc4048f",
   "metadata": {},
   "outputs": [],
   "source": [
    "# ----------------------------------------------------------------------\n",
    "# 1. HIPERPARÁMETROS (MODIFICABLES)\n",
    "# ----------------------------------------------------------------------\n",
    "N_NEURONAS   = 64       # número de neuronas por capa recurrente\n",
    "EPOCHS       = 50      # número de épocas\n",
    "BATCH_SIZE   = 8        # tamaño del batch\n",
    "LOOKBACK     = 30       # días de historial para predecir\n",
    "LR           = 0.001    # learning rate\n",
    "DIAS_PRED    = 6        # días a predecir"
   ]
  },
  {
   "cell_type": "code",
   "execution_count": 18,
   "id": "32e50828",
   "metadata": {},
   "outputs": [
    {
     "name": "stderr",
     "output_type": "stream",
     "text": [
      "C:\\Users\\ACER\\AppData\\Local\\Temp\\ipykernel_17552\\2147396478.py:4: FutureWarning: YF.download() has changed argument auto_adjust default to True\n",
      "  df = yf.download(\"DOGE-USD\", start=\"2020-01-01\", end=\"2024-12-31\")\n",
      "[*********************100%***********************]  1 of 1 completed\n"
     ]
    }
   ],
   "source": [
    "# ----------------------------------------------------------------------\n",
    "# 2. DESCARGA Y PREPROCESADO DE DATOS\n",
    "# ----------------------------------------------------------------------\n",
    "df = yf.download(\"DOGE-USD\", start=\"2020-01-01\", end=\"2024-12-31\")\n",
    "df = df[[\"Close\"]].dropna()\n",
    "\n",
    "# Normalización\n",
    "scaler = MinMaxScaler()\n",
    "datos = scaler.fit_transform(df)\n",
    "\n",
    "# Construcción de secuencias\n",
    "X, y = [], []\n",
    "for i in range(LOOKBACK, len(datos)):\n",
    "    X.append(datos[i-LOOKBACK:i, 0])\n",
    "    y.append(datos[i, 0])\n",
    "X, y = np.array(X), np.array(y)\n",
    "X = np.reshape(X, (X.shape[0], X.shape[1], 1))  # (muestras, timesteps, features)\n",
    "\n",
    "# División en entrenamiento y validación\n",
    "X_train, X_val = X[:-DIAS_PRED], X[-DIAS_PRED:]\n",
    "y_train, y_val = y[:-DIAS_PRED], y[-DIAS_PRED:]"
   ]
  },
  {
   "cell_type": "code",
   "execution_count": 19,
   "id": "c65fdd49",
   "metadata": {},
   "outputs": [],
   "source": [
    "# ----------------------------------------------------------------------\n",
    "# 3. FUNCIÓN PARA ENTRENAR Y PREDECIR CON CADA MODELO\n",
    "# ----------------------------------------------------------------------\n",
    "def entrenar_y_predecir(tipo_modelo, X_train, y_train, X_val, y_val):\n",
    "    model = Sequential()\n",
    "\n",
    "    if tipo_modelo == \"RNN\":\n",
    "        model.add(SimpleRNN(N_NEURONAS, activation=\"tanh\", input_shape=(LOOKBACK,1)))\n",
    "    elif tipo_modelo == \"LSTM\":\n",
    "        model.add(LSTM(N_NEURONAS, activation=\"tanh\", input_shape=(LOOKBACK,1)))\n",
    "    elif tipo_modelo == \"GRU\":\n",
    "        model.add(GRU(N_NEURONAS, activation=\"tanh\", input_shape=(LOOKBACK,1)))\n",
    "\n",
    "    model.add(Dense(1))  \n",
    "\n",
    "    opt = Adam(learning_rate=LR)\n",
    "    model.compile(optimizer=opt, loss=\"mse\")\n",
    "\n",
    "    # Entrenamiento\n",
    "    model.fit(X_train, y_train, epochs=EPOCHS, batch_size=BATCH_SIZE,\n",
    "              validation_data=(X_val,y_val), verbose=0)\n",
    "\n",
    "    # Predicción futura (2025-01-01 → 2025-01-06)\n",
    "    ultimos_dias = datos[-LOOKBACK:]   \n",
    "    predicciones = []\n",
    "    entrada = ultimos_dias.reshape(1, LOOKBACK, 1)\n",
    "\n",
    "    for _ in range(DIAS_PRED):\n",
    "        pred = model.predict(entrada, verbose=0)  # (1,1)\n",
    "        predicciones.append(pred[0,0])\n",
    "        pred_reshaped = np.reshape(pred, (1,1,1))\n",
    "        entrada = np.concatenate((entrada[:,1:,:], pred_reshaped), axis=1)\n",
    "\n",
    "    predicciones = scaler.inverse_transform(np.array(predicciones).reshape(-1,1))\n",
    "    return predicciones"
   ]
  },
  {
   "cell_type": "code",
   "execution_count": 20,
   "id": "11e37f07",
   "metadata": {},
   "outputs": [
    {
     "name": "stderr",
     "output_type": "stream",
     "text": [
      "C:\\Users\\ACER\\AppData\\Local\\Temp\\ipykernel_17552\\3044997881.py:4: FutureWarning: YF.download() has changed argument auto_adjust default to True\n",
      "  df_future = yf.download(\"DOGE-USD\", start=\"2020-01-01\", end=\"2024-12-31\")\n",
      "[*********************100%***********************]  1 of 1 completed\n",
      "c:\\Users\\ACER\\AppData\\Local\\Programs\\Python\\Python313\\Lib\\site-packages\\keras\\src\\layers\\rnn\\rnn.py:199: UserWarning: Do not pass an `input_shape`/`input_dim` argument to a layer. When using Sequential models, prefer using an `Input(shape)` object as the first layer in the model instead.\n",
      "  super().__init__(**kwargs)\n",
      "c:\\Users\\ACER\\AppData\\Local\\Programs\\Python\\Python313\\Lib\\site-packages\\keras\\src\\layers\\rnn\\rnn.py:199: UserWarning: Do not pass an `input_shape`/`input_dim` argument to a layer. When using Sequential models, prefer using an `Input(shape)` object as the first layer in the model instead.\n",
      "  super().__init__(**kwargs)\n",
      "c:\\Users\\ACER\\AppData\\Local\\Programs\\Python\\Python313\\Lib\\site-packages\\keras\\src\\layers\\rnn\\rnn.py:199: UserWarning: Do not pass an `input_shape`/`input_dim` argument to a layer. When using Sequential models, prefer using an `Input(shape)` object as the first layer in the model instead.\n",
      "  super().__init__(**kwargs)\n"
     ]
    }
   ],
   "source": [
    "# ----------------------------------------------------------------------\n",
    "# 4. EVALUACIÓN DE CADA MODELO\n",
    "# ----------------------------------------------------------------------\n",
    "df_future = yf.download(\"DOGE-USD\", start=\"2020-01-01\", end=\"2024-12-31\")\n",
    "reales = df_future[\"Close\"].values.reshape(-1,1)\n",
    "\n",
    "resultados = []\n",
    "\n",
    "for modelo in [\"RNN\", \"LSTM\", \"GRU\"]:\n",
    "    pred = entrenar_y_predecir(modelo, X_train, y_train, X_val, y_val)\n",
    "\n",
    "    n = min(len(pred), len(reales))\n",
    "    pred, reales_cmp = pred[:n], reales[:n]\n",
    "\n",
    "    mae = mean_absolute_error(reales_cmp, pred)\n",
    "    mse = mean_squared_error(reales_cmp, pred)\n",
    "    rmse = np.sqrt(mse)\n",
    "    mape = np.mean(np.abs((reales_cmp - pred) / reales_cmp)) * 100\n",
    "\n",
    "    resultados.append({\n",
    "        \"Modelo\": modelo,\n",
    "        \"MAE\": mae,\n",
    "        \"RMSE\": rmse,\n",
    "        \"MAPE\": mape,\n",
    "        \"Predicciones\": pred\n",
    "    })"
   ]
  },
  {
   "cell_type": "code",
   "execution_count": 22,
   "id": "c6a403a2",
   "metadata": {},
   "outputs": [
    {
     "name": "stdout",
     "output_type": "stream",
     "text": [
      "\n",
      "📊 RESULTADOS POR MODELO\n",
      "============================================================\n",
      "  Modelo       MAE      RMSE          MAPE\n",
      "0    RNN  0.311951  0.311953  14152.874904\n",
      "1   LSTM  0.283477  0.283903  12911.700509\n",
      "2    GRU  0.300267  0.300367  13646.437079\n",
      "\n",
      "✅ MEJOR MODELO SELECCIONADO: LSTM\n",
      "MAPE: 12911.70%\n",
      "\n",
      "⚠️ ALERTA: El MAPE está por encima del 4%. Ajusta hiperparámetros.\n"
     ]
    }
   ],
   "source": [
    "# ----------------------------------------------------------------------\n",
    "# 5. SELECCIÓN DEL MEJOR MODELO\n",
    "# ----------------------------------------------------------------------\n",
    "df_resultados = pd.DataFrame([{k:v for k,v in r.items() if k!=\"Predicciones\"} for r in resultados])\n",
    "mejor_modelo = df_resultados.loc[df_resultados[\"MAPE\"].idxmin()]\n",
    "\n",
    "print(\"\\n📊 RESULTADOS POR MODELO\")\n",
    "print(\"=\"*60)\n",
    "print(df_resultados)\n",
    "\n",
    "print(\"\\n✅ MEJOR MODELO SELECCIONADO:\", mejor_modelo[\"Modelo\"])\n",
    "print(f\"MAPE: {mejor_modelo['MAPE']:.2f}%\")\n",
    "\n",
    "if mejor_modelo[\"MAPE\"] >= 4:\n",
    "    print(\"\\n⚠️ ALERTA: El MAPE está por encima del 4%. Ajusta hiperparámetros.\")"
   ]
  },
  {
   "cell_type": "code",
   "execution_count": 8,
   "id": "efcfd8e9",
   "metadata": {},
   "outputs": [
    {
     "name": "stdout",
     "output_type": "stream",
     "text": [
      "\n",
      "🔮 PREDICCIÓN VS REAL (MEJOR MODELO)\n",
      "============================================================\n",
      "       Fecha      Real  Predicción\n",
      "0 2025-01-01  0.324306    0.305037\n",
      "1 2025-01-02  0.338610    0.297569\n",
      "2 2025-01-03  0.379279    0.290790\n",
      "3 2025-01-04  0.394746    0.284027\n",
      "4 2025-01-05  0.382563    0.277591\n",
      "5 2025-01-06  0.387957    0.271281\n"
     ]
    }
   ],
   "source": [
    "# ----------------------------------------------------------------------\n",
    "# 6. TABLA COMPARATIVA DEL MEJOR MODELO\n",
    "# ----------------------------------------------------------------------\n",
    "pred_final = resultados[df_resultados[\"MAPE\"].idxmin()][\"Predicciones\"]\n",
    "\n",
    "n = min(len(pred_final), len(reales))\n",
    "tabla = pd.DataFrame({\n",
    "    \"Fecha\": df_future.index[:n],\n",
    "    \"Real\": reales[:n].flatten(),\n",
    "    \"Predicción\": pred_final[:n].flatten()\n",
    "})\n",
    "\n",
    "print(\"\\n🔮 PREDICCIÓN VS REAL (MEJOR MODELO)\")\n",
    "print(\"=\"*60)\n",
    "print(tabla)\n"
   ]
  },
  {
   "cell_type": "code",
   "execution_count": 9,
   "id": "3071436a",
   "metadata": {},
   "outputs": [
    {
     "data": {
      "image/png": "[encoded data removed]",
      "text/plain": [
       "<Figure size 1000x500 with 1 Axes>"
      ]
     },
     "metadata": {},
     "output_type": "display_data"
    }
   ],
   "source": [
    "# ----------------------------------------------------------------------\n",
    "# 7. GRAFICAR RESULTADOS\n",
    "# ----------------------------------------------------------------------\n",
    "plt.figure(figsize=(10,5))\n",
    "plt.plot(tabla[\"Fecha\"], tabla[\"Real\"], marker=\"o\", label=\"Real\")\n",
    "plt.plot(tabla[\"Fecha\"], tabla[\"Predicción\"], marker=\"x\", label=\"Predicción\")\n",
    "plt.title(f\"Predicción de DOGE-USD con {mejor_modelo['Modelo']} ({DIAS_PRED} días)\")\n",
    "plt.xlabel(\"Fecha\")\n",
    "plt.ylabel(\"Precio USD\")\n",
    "plt.legend()\n",
    "plt.grid(True)\n",
    "plt.show()"
   ]
  }
 ],
 "metadata": {
  "kernelspec": {
   "display_name": "Python 3",
   "language": "python",
   "name": "python3"
  },
  "language_info": {
   "codemirror_mode": {
    "name": "ipython",
    "version": 3
   },
   "file_extension": ".py",
   "mimetype": "text/x-python",
   "name": "python",
   "nbconvert_exporter": "python",
   "pygments_lexer": "ipython3",
   "version": "3.13.7"
  }
 },
 "nbformat": 4,
 "nbformat_minor": 5
}
