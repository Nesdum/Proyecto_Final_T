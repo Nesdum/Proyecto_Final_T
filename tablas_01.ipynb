{
 "cells": [
  {
   "cell_type": "code",
   "execution_count": 1,
   "id": "c3aafd60",
   "metadata": {},
   "outputs": [],
   "source": [
    "import yfinance as yf\n",
    "import pandas as pd\n",
    "from datetime import datetime, timedelta"
   ]
  },
  {
   "cell_type": "code",
   "execution_count": 4,
   "id": "cca26855",
   "metadata": {},
   "outputs": [
    {
     "name": "stderr",
     "output_type": "stream",
     "text": [
      "C:\\Users\\ACER\\AppData\\Local\\Temp\\ipykernel_23256\\2058798873.py:2: FutureWarning: YF.download() has changed argument auto_adjust default to True\n",
      "  df = yf.download(\"DOGE-USD\", start=\"2014-01-01\", end=datetime.today().strftime(\"%Y-%m-%d\"))\n",
      "[*********************100%***********************]  1 of 1 completed\n"
     ]
    }
   ],
   "source": [
    "# Descargamos precios históricos de DOGE-USD desde 2014 (fecha de lanzamiento aprox)\n",
    "df = yf.download(\"DOGE-USD\", start=\"2014-01-01\", end=datetime.today().strftime(\"%Y-%m-%d\"))\n",
    "df = df[[\"Close\"]].reset_index()\n"
   ]
  },
  {
   "cell_type": "code",
   "execution_count": 5,
   "id": "2f9d5bcb",
   "metadata": {},
   "outputs": [],
   "source": [
    "# Función para calcular variación absoluta y porcentual en un periodo\n",
    "def calcular_variacion(df, start_date):\n",
    "    try:\n",
    "        precio_inicial = df[df[\"Date\"] >= start_date][\"Close\"].iloc[0]\n",
    "        precio_final = df[\"Close\"].iloc[-1]\n",
    "        variacion_abs = precio_final - precio_inicial\n",
    "        variacion_pct = (variacion_abs / precio_inicial) * 100\n",
    "        return variacion_abs, variacion_pct\n",
    "    except Exception:\n",
    "        return None, None"
   ]
  },
  {
   "cell_type": "code",
   "execution_count": 7,
   "id": "f456448d",
   "metadata": {},
   "outputs": [],
   "source": [
    "# Definir periodos en días\n",
    "hoy = df[\"Date\"].iloc[-1]\n",
    "periodos = {\n",
    "    \"Últimos 30 días\": hoy - timedelta(days=30),\n",
    "    \"Últimos 6 meses\": hoy - timedelta(days=182),\n",
    "    \"Último año\": hoy - timedelta(days=365),\n",
    "    \"Últimos 2 años\": hoy - timedelta(days=2*365),\n",
    "    \"Últimos 3 años\": hoy - timedelta(days=3*365),\n",
    "    \"Últimos 4 años\": hoy - timedelta(days=4*365),\n",
    "    \"Últimos 5 años\": hoy - timedelta(days=5*365),\n",
    "    \"Últimos 6 años\": hoy - timedelta(days=6*365),\n",
    "    \"Últimos 7 años\": hoy - timedelta(days=7*365),\n",
    "    \"Últimos 8 años\": hoy - timedelta(days=8*365),\n",
    "    \"Últimos 9 años\": hoy - timedelta(days=9*365),\n",
    "}"
   ]
  },
  {
   "cell_type": "code",
   "execution_count": 8,
   "id": "9e6c564c",
   "metadata": {},
   "outputs": [
    {
     "ename": "ValueError",
     "evalue": "The truth value of a Series is ambiguous. Use a.empty, a.bool(), a.item(), a.any() or a.all().",
     "output_type": "error",
     "traceback": [
      "\u001b[1;31m---------------------------------------------------------------------------\u001b[0m",
      "\u001b[1;31mValueError\u001b[0m                                Traceback (most recent call last)",
      "\u001b[1;32m~\\AppData\\Local\\Temp\\ipykernel_23256\\1274755217.py\u001b[0m in \u001b[0;36m?\u001b[1;34m()\u001b[0m\n\u001b[0;32m      2\u001b[0m \u001b[0mtabla\u001b[0m \u001b[1;33m=\u001b[0m \u001b[1;33m[\u001b[0m\u001b[1;33m]\u001b[0m\u001b[1;33m\u001b[0m\u001b[1;33m\u001b[0m\u001b[0m\n\u001b[0;32m      3\u001b[0m \u001b[1;32mfor\u001b[0m \u001b[0mperiodo\u001b[0m\u001b[1;33m,\u001b[0m \u001b[0mstart_date\u001b[0m \u001b[1;32min\u001b[0m \u001b[0mperiodos\u001b[0m\u001b[1;33m.\u001b[0m\u001b[0mitems\u001b[0m\u001b[1;33m(\u001b[0m\u001b[1;33m)\u001b[0m\u001b[1;33m:\u001b[0m\u001b[1;33m\u001b[0m\u001b[1;33m\u001b[0m\u001b[0m\n\u001b[0;32m      4\u001b[0m     \u001b[0mvar_abs\u001b[0m\u001b[1;33m,\u001b[0m \u001b[0mvar_pct\u001b[0m \u001b[1;33m=\u001b[0m \u001b[0mcalcular_variacion\u001b[0m\u001b[1;33m(\u001b[0m\u001b[0mdf\u001b[0m\u001b[1;33m,\u001b[0m \u001b[0mstart_date\u001b[0m\u001b[1;33m)\u001b[0m\u001b[1;33m\u001b[0m\u001b[1;33m\u001b[0m\u001b[0m\n\u001b[0;32m      5\u001b[0m     \u001b[1;32mif\u001b[0m \u001b[0mvar_abs\u001b[0m \u001b[1;32mis\u001b[0m \u001b[1;32mnot\u001b[0m \u001b[1;32mNone\u001b[0m\u001b[1;33m:\u001b[0m\u001b[1;33m\u001b[0m\u001b[1;33m\u001b[0m\u001b[0m\n\u001b[1;32m----> 6\u001b[1;33m         \u001b[0mtendencia\u001b[0m \u001b[1;33m=\u001b[0m \u001b[1;34m\"↗\"\u001b[0m \u001b[1;32mif\u001b[0m \u001b[0mvar_abs\u001b[0m \u001b[1;33m>\u001b[0m \u001b[1;36m0\u001b[0m \u001b[1;32melse\u001b[0m \u001b[1;34m\"↘\"\u001b[0m\u001b[1;33m\u001b[0m\u001b[1;33m\u001b[0m\u001b[0m\n\u001b[0m\u001b[0;32m      7\u001b[0m         \u001b[0mtabla\u001b[0m\u001b[1;33m.\u001b[0m\u001b[0mappend\u001b[0m\u001b[1;33m(\u001b[0m\u001b[1;33m[\u001b[0m\u001b[0mperiodo\u001b[0m\u001b[1;33m,\u001b[0m \u001b[0mround\u001b[0m\u001b[1;33m(\u001b[0m\u001b[0mvar_abs\u001b[0m\u001b[1;33m,\u001b[0m \u001b[1;36m4\u001b[0m\u001b[1;33m)\u001b[0m\u001b[1;33m,\u001b[0m \u001b[0mround\u001b[0m\u001b[1;33m(\u001b[0m\u001b[0mvar_pct\u001b[0m\u001b[1;33m,\u001b[0m \u001b[1;36m2\u001b[0m\u001b[1;33m)\u001b[0m\u001b[1;33m,\u001b[0m \u001b[0mtendencia\u001b[0m\u001b[1;33m]\u001b[0m\u001b[1;33m)\u001b[0m\u001b[1;33m\u001b[0m\u001b[1;33m\u001b[0m\u001b[0m\n\u001b[0;32m      8\u001b[0m \u001b[1;33m\u001b[0m\u001b[0m\n\u001b[0;32m      9\u001b[0m \u001b[0mdf_tabla\u001b[0m \u001b[1;33m=\u001b[0m \u001b[0mpd\u001b[0m\u001b[1;33m.\u001b[0m\u001b[0mDataFrame\u001b[0m\u001b[1;33m(\u001b[0m\u001b[0mtabla\u001b[0m\u001b[1;33m,\u001b[0m \u001b[0mcolumns\u001b[0m\u001b[1;33m=\u001b[0m\u001b[1;33m[\u001b[0m\u001b[1;34m\"Periodo\"\u001b[0m\u001b[1;33m,\u001b[0m \u001b[1;34m\"Variación ($)\"\u001b[0m\u001b[1;33m,\u001b[0m \u001b[1;34m\"Variación (%)\"\u001b[0m\u001b[1;33m,\u001b[0m \u001b[1;34m\"Tendencia\"\u001b[0m\u001b[1;33m]\u001b[0m\u001b[1;33m)\u001b[0m\u001b[1;33m\u001b[0m\u001b[1;33m\u001b[0m\u001b[0m\n",
      "\u001b[1;32mc:\\Users\\ACER\\AppData\\Local\\Programs\\Python\\Python313\\Lib\\site-packages\\pandas\\core\\generic.py\u001b[0m in \u001b[0;36m?\u001b[1;34m(self)\u001b[0m\n\u001b[0;32m   1575\u001b[0m     \u001b[1;33m@\u001b[0m\u001b[0mfinal\u001b[0m\u001b[1;33m\u001b[0m\u001b[1;33m\u001b[0m\u001b[0m\n\u001b[0;32m   1576\u001b[0m     \u001b[1;32mdef\u001b[0m \u001b[0m__nonzero__\u001b[0m\u001b[1;33m(\u001b[0m\u001b[0mself\u001b[0m\u001b[1;33m)\u001b[0m \u001b[1;33m->\u001b[0m \u001b[0mNoReturn\u001b[0m\u001b[1;33m:\u001b[0m\u001b[1;33m\u001b[0m\u001b[1;33m\u001b[0m\u001b[0m\n\u001b[1;32m-> 1577\u001b[1;33m         raise ValueError(\n\u001b[0m\u001b[0;32m   1578\u001b[0m             \u001b[1;33mf\"\u001b[0m\u001b[1;33mThe truth value of a \u001b[0m\u001b[1;33m{\u001b[0m\u001b[0mtype\u001b[0m\u001b[1;33m(\u001b[0m\u001b[0mself\u001b[0m\u001b[1;33m)\u001b[0m\u001b[1;33m.\u001b[0m\u001b[0m__name__\u001b[0m\u001b[1;33m}\u001b[0m\u001b[1;33m is ambiguous. \u001b[0m\u001b[1;33m\"\u001b[0m\u001b[1;33m\u001b[0m\u001b[1;33m\u001b[0m\u001b[0m\n\u001b[0;32m   1579\u001b[0m             \u001b[1;34m\"Use a.empty, a.bool(), a.item(), a.any() or a.all().\"\u001b[0m\u001b[1;33m\u001b[0m\u001b[1;33m\u001b[0m\u001b[0m\n\u001b[0;32m   1580\u001b[0m         \u001b[1;33m)\u001b[0m\u001b[1;33m\u001b[0m\u001b[1;33m\u001b[0m\u001b[0m\n",
      "\u001b[1;31mValueError\u001b[0m: The truth value of a Series is ambiguous. Use a.empty, a.bool(), a.item(), a.any() or a.all()."
     ]
    }
   ],
   "source": [
    "# Construir tabla\n",
    "tabla = []\n",
    "for periodo, start_date in periodos.items():\n",
    "    var_abs, var_pct = calcular_variacion(df, start_date)\n",
    "    if var_abs is not None:\n",
    "        tendencia = \"↗\" if var_abs > 0 else \"↘\"\n",
    "        tabla.append([periodo, round(var_abs, 4), round(var_pct, 2), tendencia])\n",
    "\n",
    "df_tabla = pd.DataFrame(tabla, columns=[\"Periodo\", \"Variación ($)\", \"Variación (%)\", \"Tendencia\"])\n",
    "\n",
    "import caas_jupyter_tools as tools; tools.display_dataframe_to_user(\"Variaciones Dogecoin\", df_tabla)\n",
    "\n",
    "df_tabla.head(12)"
   ]
  }
 ],
 "metadata": {
  "kernelspec": {
   "display_name": "Python 3",
   "language": "python",
   "name": "python3"
  },
  "language_info": {
   "codemirror_mode": {
    "name": "ipython",
    "version": 3
   },
   "file_extension": ".py",
   "mimetype": "text/x-python",
   "name": "python",
   "nbconvert_exporter": "python",
   "pygments_lexer": "ipython3",
   "version": "3.13.7"
  }
 },
 "nbformat": 4,
 "nbformat_minor": 5
}
